{
 "cells": [
  {
   "cell_type": "code",
   "execution_count": 2,
   "metadata": {},
   "outputs": [
    {
     "name": "stdout",
     "output_type": "stream",
     "text": [
      "{'name': 'ditto', 'ability': {'name': 'limber', 'url': 'https://pokeapi.co/api/v2/ability/7/'}, 'hp': 48, 'attack': 48, 'defense': 48, 'img_url': 'https://raw.githubusercontent.com/PokeAPI/sprites/master/sprites/pokemon/132.png'}\n"
     ]
    }
   ],
   "source": [
    "from urllib import response\n",
    "import requests\n",
    "def get_pokemon(name):\n",
    "    url = f'https://pokeapi.co/api/v2/pokemon/{name}'\n",
    "    response = requests.get(url)\n",
    "    if response.ok:\n",
    "        data = response.json()\n",
    "        poke_dict = {\n",
    "            'name': data['name'],\n",
    "            'ability': data['abilities'][0]['ability'],\n",
    "            'hp': data['stats'][0]['base_stat'],\n",
    "            'attack': data['stats'][1]['base_stat'],\n",
    "            'defense': data['stats'][2]['base_stat'],\n",
    "            'img_url': data['sprites']['front_default']    \n",
    "        }\n",
    "        return poke_dict\n",
    "    else:\n",
    "        return 'Could not accese API'\n",
    "\n",
    "print(get_pokemon('ditto'))"
   ]
  },
  {
   "cell_type": "code",
   "execution_count": null,
   "metadata": {},
   "outputs": [],
   "source": []
  }
 ],
 "metadata": {
  "kernelspec": {
   "display_name": "Python 3.10.6 64-bit",
   "language": "python",
   "name": "python3"
  },
  "language_info": {
   "codemirror_mode": {
    "name": "ipython",
    "version": 3
   },
   "file_extension": ".py",
   "mimetype": "text/x-python",
   "name": "python",
   "nbconvert_exporter": "python",
   "pygments_lexer": "ipython3",
   "version": "3.10.6"
  },
  "orig_nbformat": 4,
  "vscode": {
   "interpreter": {
    "hash": "b74a687c0cfa2191036c89d06dbe6383b3e45e5cf2ea8f7d59abc5394ae49f24"
   }
  }
 },
 "nbformat": 4,
 "nbformat_minor": 2
}
