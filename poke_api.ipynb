{
 "cells": [
  {
   "cell_type": "code",
   "execution_count": 165,
   "metadata": {},
   "outputs": [
    {
     "name": "stdout",
     "output_type": "stream",
     "text": [
      "40\n"
     ]
    }
   ],
   "source": [
    "from urllib import response\n",
    "import requests\n",
    "url = 'https://pokeapi.co/api/v2/pokemon/pikachu'\n",
    "response = requests.get(url)\n",
    "response.ok\n",
    "response.json()\n",
    "\n",
    "pikachu_data = response.json()['forms'][0]['name']\n",
    "pikachu_data = response.json()['abilities'][0]['ability']['name']\n",
    "pikachu_data = response.json()['sprites']['front_shiny']\n",
    "# pikachu_data = response.json()['abilities'][1]['ability']['base_experience']\n",
    "pikachu_data = response.json()['held_items'][0]['item']['name']\n",
    "\n",
    "\n",
    "pikachu_data = response.json()['stats'][0]['base_stat']\n",
    "pikachu_data = response.json()['stats'][0]['stat']['name']\n",
    "pikachu_data = response.json()['stats'][1]['stat']['name']\n",
    "pikachu_data = response.json()['stats'][1]['base_stat']\n",
    "pikachu_data = response.json()['stats'][2]['stat']['name']\n",
    "pikachu_data = response.json()['stats'][2]['base_stat']\n",
    "\n",
    "print(pikachu_data)"
   ]
  },
  {
   "cell_type": "code",
   "execution_count": 15,
   "metadata": {},
   "outputs": [
    {
     "name": "stdout",
     "output_type": "stream",
     "text": [
      "49\n"
     ]
    }
   ],
   "source": [
    "import requests\n",
    "url = 'https://pokeapi.co/api/v2/pokemon/bulbasaur'\n",
    "response = requests.get(url)\n",
    "response.ok\n",
    "response.json()\n",
    "\n",
    "bulbasaur_data = response.json()['abilities'][1]['ability']['name']\n",
    "bulbasaur_data = response.json()['forms'][0]['name']\n",
    "bulbasaur_data = response.json()['sprites']['front_shiny']\n",
    "bulbasaur_data = response.json()['types'][0]['type']['name']\n",
    "bulbasaur_data = response.json()['moves'][0]['move']['name']\n",
    "\n",
    "bulbasaur_data = response.json()['stats'][0]['stat']['name']\n",
    "bulbasaur_data = response.json()['stats'][0]['base_stat']\n",
    "bulbasaur_data = response.json()['stats'][1]['stat']['name']\n",
    "bulbasaur_data = response.json()['stats'][1]['base_stat']\n",
    "bulbasaur_data = response.json()['stats'][2]['stat']['name']\n",
    "bulbasaur_data = response.json()['stats'][2]['base_stat']\n",
    "print(bulbasaur_data)\n"
   ]
  },
  {
   "cell_type": "code",
   "execution_count": 20,
   "metadata": {},
   "outputs": [
    {
     "name": "stdout",
     "output_type": "stream",
     "text": [
      "90\n"
     ]
    }
   ],
   "source": [
    "import requests\n",
    "url = 'https://pokeapi.co/api/v2/pokemon/mewtwo'\n",
    "response = requests.get(url)\n",
    "response.ok\n",
    "response.json()\n",
    "\n",
    "mewtwo_data = response.json()['abilities'][1]['ability']['name']\n",
    "mewtwo_data = response.json()['forms'][0]['name']\n",
    "mewtwo_data = response.json()['sprites']['front_shiny']\n",
    "mewtwo_data = response.json()['types'][0]['type']['name']\n",
    "mewtwo_data = response.json()['moves'][0]['move']['name']\n",
    "\n",
    "mewtwo_data = response.json()['stats'][0]['stat']['name']\n",
    "mewtwo_data = response.json()['stats'][0]['base_stat']\n",
    "mewtwo_data = response.json()['stats'][1]['stat']['name']\n",
    "mewtwo_data = response.json()['stats'][1]['base_stat']\n",
    "mewtwo_data = response.json()['stats'][2]['stat']['name']\n",
    "mewtwo_data = response.json()['stats'][2]['base_stat']\n",
    "\n",
    "print(mewtwo_data)\n"
   ]
  },
  {
   "cell_type": "code",
   "execution_count": 26,
   "metadata": {},
   "outputs": [],
   "source": [
    "import requests\n",
    "url = 'https://pokeapi.co/api/v2/pokemon/mew'\n",
    "response = requests.get(url)\n",
    "response.ok\n",
    "response.json()\n",
    "\n",
    "mew_data = response.json()['abilities'][0]['ability']['name']\n",
    "mew_data = response.json()['forms'][0]['name']\n",
    "mew_data = response.json()['sprites']['front_shiny']\n",
    "mew_data = response.json()['moves'][0]['move']['name']\n",
    "mew_data = response.json()['held_items'][0]['item']['name']\n",
    "\n",
    "\n",
    "mew_data = response.json()['stats'][0]['stat']['name']\n",
    "mew_data = response.json()['stats'][0]['base_stat']\n",
    "mew_data = response.json()['stats'][1]['stat']['name']\n",
    "mew_data = response.json()['stats'][1]['base_stat']\n",
    "mew_data = response.json()['stats'][2]['stat']['name']\n",
    "mew_data = response.json()['stats'][2]['base_stat']\n"
   ]
  },
  {
   "cell_type": "code",
   "execution_count": 170,
   "metadata": {},
   "outputs": [
    {
     "name": "stdout",
     "output_type": "stream",
     "text": [
      "water\n"
     ]
    }
   ],
   "source": [
    "import requests\n",
    "url = 'https://pokeapi.co/api/v2/pokemon/totodile'\n",
    "response = requests.get(url)\n",
    "response.ok\n",
    "response.json()\n",
    "\n",
    "tododile_data = response.json()['forms'][0]['name']\n",
    "tododile_data = response.json()['abilities'][1]['ability']['name']\n",
    "tododile_data = response.json()['sprites']['front_shiny']\n",
    "tododile_data = response.json()['types'][0]['type']['name']\n",
    "\n",
    "\n",
    "\n",
    "tododile_data = response.json()['stats'][0]['stat']['name']\n",
    "tododile_data = response.json()['stats'][0]['base_stat']\n",
    "tododile_data = response.json()['stats'][1]['stat']['name']\n",
    "tododile_data = response.json()['stats'][1]['base_stat']\n",
    "tododile_data = response.json()['stats'][2]['stat']['name']\n",
    "tododile_data = response.json()['stats'][2]['base_stat']\n",
    "\n",
    "# for stat in tododile_data:\n",
    "#     print(stat['base_stat'] + stat['name'])\n",
    "\n",
    "\n",
    "\n",
    "\n",
    "\n",
    "print(tododile_data)"
   ]
  }
 ],
 "metadata": {
  "kernelspec": {
   "display_name": "Python 3.10.6 64-bit",
   "language": "python",
   "name": "python3"
  },
  "language_info": {
   "codemirror_mode": {
    "name": "ipython",
    "version": 3
   },
   "file_extension": ".py",
   "mimetype": "text/x-python",
   "name": "python",
   "nbconvert_exporter": "python",
   "pygments_lexer": "ipython3",
   "version": "3.10.6"
  },
  "orig_nbformat": 4,
  "vscode": {
   "interpreter": {
    "hash": "b74a687c0cfa2191036c89d06dbe6383b3e45e5cf2ea8f7d59abc5394ae49f24"
   }
  }
 },
 "nbformat": 4,
 "nbformat_minor": 2
}
